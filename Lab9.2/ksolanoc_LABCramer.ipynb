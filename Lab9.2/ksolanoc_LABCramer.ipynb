{
  "nbformat": 4,
  "nbformat_minor": 0,
  "metadata": {
    "colab": {
      "provenance": [],
      "include_colab_link": true
    },
    "kernelspec": {
      "name": "python3",
      "display_name": "Python 3"
    },
    "language_info": {
      "name": "python"
    }
  },
  "cells": [
    {
      "cell_type": "markdown",
      "metadata": {
        "id": "view-in-github",
        "colab_type": "text"
      },
      "source": [
        "<a href=\"https://colab.research.google.com/github/kellysolanomt/MetNumUN2024I/blob/main/Lab9.2/ksolanoc_LABCramer.ipynb\" target=\"_parent\"><img src=\"https://colab.research.google.com/assets/colab-badge.svg\" alt=\"Open In Colab\"/></a>"
      ]
    },
    {
      "cell_type": "markdown",
      "source": [
        "*Presentado por Kelly Johana Solano Calderón* 💗\n",
        "\n",
        "---\n",
        "\n",
        "\n"
      ],
      "metadata": {
        "id": "YRFzs-kU6wCd"
      }
    },
    {
      "cell_type": "markdown",
      "source": [
        "### Cramer by hand\n",
        "\n",
        "$$A = \\left[\n",
        "  \\begin{array}{cc}\n",
        "1 & 2\\\\\n",
        "3 & 4\n",
        "\\end{array}\n",
        "\\right],  \n",
        "b= \\left[\n",
        "\\begin{array}{c}\n",
        "5\\\\\n",
        "6\n",
        "\\end{array}\n",
        "\\right]\n",
        "$$\n",
        "$$\n",
        "Ax =B\n",
        "$$\n",
        "$$  \n",
        "\\left[\n",
        "  \\begin{array}{cc}\n",
        "1 & 2\\\\\n",
        "3 & 4\n",
        "\\end{array}\n",
        "\\right]\n",
        "\\left[\n",
        "\\begin{array}{c}\n",
        "x_1\\\\\n",
        "x_2\n",
        "\\end{array}\n",
        "\\right]  \n",
        "=\n",
        "\\left[\n",
        "\\begin{array}{c}\n",
        "5\\\\\n",
        "6\n",
        "\\end{array}\n",
        "\\right]\n",
        "$$\n",
        "\n",
        "$$Det\\ A =  (1 * 4) - (3 * 2)  = 4 - 6 = -2$$\n",
        "\n",
        "$$A_1 = \\left[\n",
        "  \\begin{array}{cc}\n",
        "5 & 2\\\\\n",
        "6 & 4\n",
        "\\end{array}\n",
        "\\right]\n",
        "$$\n",
        "\n",
        "$$Det\\ A_1 = (5 * 4) - (6 * 2) = 20 - 12 =  8$$\n",
        "\n",
        "$$x_1 =  \\frac{Det\\ A_1}{Det\\ A}= \\frac{8}{-2} =  -4$$\n",
        "\n",
        "$$A_2 = \\left[\n",
        "  \\begin{array}{cc}\n",
        "1 & 5\\\\\n",
        "3 & 6\n",
        "\\end{array}\n",
        "\\right]\n",
        "$$\n",
        "\n",
        "$$Det\\ A_2 = (1*6) - (3*5)  = 6 -15 = -9$$\n",
        "\n",
        "$$x_2 = \\frac{Det\\ A_2}{Det\\ A}= \\frac{-9}{-2} =  \\frac{9}{2}$$"
      ],
      "metadata": {
        "id": "SUmNm2PmfHU7"
      }
    },
    {
      "cell_type": "markdown",
      "source": [
        "- ***Adding a single digit to any number requires about 7.30 bits of processing.*** - World Mental Calculation: News and Resources for Competitive and Advanced Mental Calculation https://worldmentalcalculation.com/2019/06/30/fastest-possible-processing-speed-of-the-human-brain/\n",
        "\n",
        "- ***The human brain can process 11 million bits of information every second. But our conscious minds can handle only 40 to 50 bits of information a second.*** - Understanding Unconscious Bias https://www.npr.org/2020/07/14/891140598/understanding-unconscious-bias\n",
        "\n",
        "- ***A new way to analyze human reaction times shows that the brain processes data no faster than 60 bits per second.***- New Measure of Human Brain Processing Speed https://www.technologyreview.com/2009/08/25/210267/new-measure-of-human-brain-processing-speed/\n",
        "\n",
        "\n"
      ],
      "metadata": {
        "id": "3rH8z64pk2XV"
      }
    },
    {
      "cell_type": "markdown",
      "source": [
        "# Number of operations to compute a determinant by cofactor expasion\n",
        "- Cofactor expansion https://people.math.carleton.ca/~kcheung/math/notes/MATH1107/07/07_cofactor_expansion.html\n",
        "## Definition of A(i∣j)\n",
        "Let $A$ be an $n\\times n$ matrix. Let $i,j \\in \\{1,…,n\\}$. We define $A(i∣j)$  to be the matrix obtained from $A$ by removing row $i$ and column $j$ from $A$.\n",
        "\n",
        "## Cofactor formula\n",
        "One way of computing the determinant of an $n\\times n$  matrix\n",
        "\n",
        "$$A = \\left[\n",
        "  \\begin{array}{cccc}\n",
        "a_{11} & a_{12} & \\cdots & a_{1n}\\\\\n",
        "a_{21} & a_{22} & \\cdots & a_{2n}\\\\\n",
        "\\vdots  & \\vdots & \\ddots & \\vdots\\\\\n",
        "a_{n1} & a_{n2} & \\cdots & a_{nn}\\\\\n",
        "\\end{array}\n",
        "\\right]\n",
        "$$\n",
        "is to use the following formula called the cofactor formula.\n",
        "\n",
        "Pick either any $i\\ \\in \\{1,…,n\\}$ (fixed row) or $i\\ \\in \\{1,…,n\\}$ (fixed column). Then\n",
        "\n",
        "$$\\det(A)  = \\sum_{j=1}^n (-1)^{i+j}a_{ij} \\det(A(i∣j)) $$\n",
        "\n",
        "\n",
        "$C_{i,j}= (-1)^{i+j}a_{ij} \\det(A(i∣j))$ is called a cofactor of $A$.\n",
        "\n",
        "$$\\det(A)  = \\sum_{j=1}^n C_{i,j} $$\n",
        "\n"
      ],
      "metadata": {
        "id": "CgrSIpDOnaGQ"
      }
    },
    {
      "cell_type": "code",
      "source": [
        "# Code from https://stackoverflow.com/questions/16510111/computing-determinant-of-a-matrix-nxn-recursively\n",
        "\n",
        "import numpy as np\n",
        "\n",
        "def smaller_matrix(original_matrix,row, column):\n",
        "    for ii in range(len(original_matrix)):\n",
        "        new_matrix=np.delete(original_matrix,ii,0)\n",
        "        new_matrix=np.delete(new_matrix,column,1)\n",
        "        return new_matrix\n",
        "\n",
        "\n",
        "def determinant(matrix):\n",
        "    \"\"\"Returns a determinant of a matrix by recursive method.\"\"\"\n",
        "    (r,c) = matrix.shape\n",
        "    if r != c:\n",
        "        print(\"Error!Not a square matrix!\")\n",
        "        return None\n",
        "    elif r==2:\n",
        "        simple_determinant = matrix[0][0]*matrix[1][1]-matrix[0][1]*matrix[1][0]\n",
        "        return simple_determinant\n",
        "    else:\n",
        "        answer=0\n",
        "        for j in range(r):\n",
        "            cofactor = (-1)**(0+j) * matrix[0][j] * determinant(smaller_matrix(matrix, 0, j))\n",
        "            answer+= cofactor\n",
        "        return answer"
      ],
      "metadata": {
        "id": "J-joKRBhC7eF"
      },
      "execution_count": null,
      "outputs": []
    },
    {
      "cell_type": "code",
      "source": [
        "#test the function\n",
        "#Only works for numpy.array input\n",
        "np.random.seed(1)"
      ],
      "metadata": {
        "id": "Il2pcRD4DptG"
      },
      "execution_count": null,
      "outputs": []
    },
    {
      "cell_type": "code",
      "source": [
        "n = 2\n",
        "matrix=np.random.randint(-5,5,size=(n,n))\n",
        "matrix"
      ],
      "metadata": {
        "colab": {
          "base_uri": "https://localhost:8080/"
        },
        "id": "AgKC1-aiFRW2",
        "outputId": "8fe19e6d-defd-45b2-d941-1da97cab0324"
      },
      "execution_count": null,
      "outputs": [
        {
          "output_type": "execute_result",
          "data": {
            "text/plain": [
              "array([[0, 3],\n",
              "       [4, 0]])"
            ]
          },
          "metadata": {},
          "execution_count": 4
        }
      ]
    },
    {
      "cell_type": "code",
      "source": [
        "determinant(matrix)"
      ],
      "metadata": {
        "colab": {
          "base_uri": "https://localhost:8080/"
        },
        "outputId": "167f1dcf-49fb-4585-fe8b-bc99a0bf27f0",
        "id": "oI0rUp-SDptH"
      },
      "execution_count": null,
      "outputs": [
        {
          "output_type": "execute_result",
          "data": {
            "text/plain": [
              "-12"
            ]
          },
          "metadata": {},
          "execution_count": 5
        }
      ]
    },
    {
      "cell_type": "code",
      "source": [
        "np.linalg.det(matrix)"
      ],
      "metadata": {
        "colab": {
          "base_uri": "https://localhost:8080/"
        },
        "id": "iqZv7iK-KKXH",
        "outputId": "f2782eb9-76c3-4354-b0e9-8ddd78cb40ce"
      },
      "execution_count": null,
      "outputs": [
        {
          "output_type": "execute_result",
          "data": {
            "text/plain": [
              "-12.0"
            ]
          },
          "metadata": {},
          "execution_count": 6
        }
      ]
    },
    {
      "cell_type": "code",
      "source": [
        "round(np.linalg.det(matrix))"
      ],
      "metadata": {
        "colab": {
          "base_uri": "https://localhost:8080/"
        },
        "id": "sY21rHM-KdlO",
        "outputId": "abf0d3c9-7034-49ce-86bf-3a6cf55435b4"
      },
      "execution_count": null,
      "outputs": [
        {
          "output_type": "execute_result",
          "data": {
            "text/plain": [
              "-12"
            ]
          },
          "metadata": {},
          "execution_count": 7
        }
      ]
    },
    {
      "cell_type": "code",
      "source": [
        "n = 5\n",
        "matrix=np.diag(np.random.randint(-10,10,size=(n)))\n",
        "matrix"
      ],
      "metadata": {
        "colab": {
          "base_uri": "https://localhost:8080/"
        },
        "id": "-QXGZWFIDs5k",
        "outputId": "8948ed85-5436-49aa-b6d8-1b2b8aa2fa17"
      },
      "execution_count": null,
      "outputs": [
        {
          "output_type": "execute_result",
          "data": {
            "text/plain": [
              "array([[  5,   0,   0,   0,   0],\n",
              "       [  0, -10,   0,   0,   0],\n",
              "       [  0,   0,   6,   0,   0],\n",
              "       [  0,   0,   0,  -9,   0],\n",
              "       [  0,   0,   0,   0,   2]])"
            ]
          },
          "metadata": {},
          "execution_count": 8
        }
      ]
    },
    {
      "cell_type": "code",
      "source": [
        "determinant(matrix)"
      ],
      "metadata": {
        "colab": {
          "base_uri": "https://localhost:8080/"
        },
        "id": "VP6hRwhwD-3W",
        "outputId": "f5097741-9ccb-415c-c1b3-45e59905297b"
      },
      "execution_count": null,
      "outputs": [
        {
          "output_type": "execute_result",
          "data": {
            "text/plain": [
              "5400"
            ]
          },
          "metadata": {},
          "execution_count": 9
        }
      ]
    },
    {
      "cell_type": "code",
      "source": [
        "np.linalg.det(matrix)"
      ],
      "metadata": {
        "colab": {
          "base_uri": "https://localhost:8080/"
        },
        "id": "8NV7Zvp-KtRz",
        "outputId": "9a18577e-7bcb-4abb-c2b1-050c47ebd3bf"
      },
      "execution_count": null,
      "outputs": [
        {
          "output_type": "execute_result",
          "data": {
            "text/plain": [
              "5400.000000000003"
            ]
          },
          "metadata": {},
          "execution_count": 10
        }
      ]
    },
    {
      "cell_type": "code",
      "source": [
        "round(np.linalg.det(matrix))"
      ],
      "metadata": {
        "colab": {
          "base_uri": "https://localhost:8080/"
        },
        "id": "HXKK3weLKt5T",
        "outputId": "f0229464-26e9-4a35-88c7-0b59e37f72b8"
      },
      "execution_count": null,
      "outputs": [
        {
          "output_type": "execute_result",
          "data": {
            "text/plain": [
              "5400"
            ]
          },
          "metadata": {},
          "execution_count": 11
        }
      ]
    },
    {
      "cell_type": "code",
      "source": [
        "# Modified from the previous code\n",
        "import numpy as np\n",
        "\n",
        "# A a squared numpy matrix\n",
        "def det(A):\n",
        "    \"\"\"Returns a determinant of a matrix by recursive method.\"\"\"\n",
        "    (r,c) = A.shape\n",
        "    if r != c:\n",
        "        print(\"Error!Not a square matrix!\")\n",
        "        return None\n",
        "    elif r==1:\n",
        "          # the code with  r==2 is more efficient but we use this\n",
        "         # because the number of operations is easier to compute\n",
        "        return A[0][0]\n",
        "    else:\n",
        "        answer=0\n",
        "        for j in range(r):\n",
        "            s = 1 if (0+j)%2 == 0 else -1\n",
        "            Aij = np.delete(A,0,0)\n",
        "            Aij = np.delete(Aij,j,1)\n",
        "            cofactor = (s) * A[0][j] * det(Aij)\n",
        "            answer+= cofactor\n",
        "        return answer"
      ],
      "metadata": {
        "id": "B258g8lnBgnG"
      },
      "execution_count": null,
      "outputs": []
    },
    {
      "cell_type": "code",
      "source": [
        "#test the function\n",
        "#Only works for numpy.array input\n",
        "np.random.seed(1)"
      ],
      "metadata": {
        "id": "ZR2mjlqiGdM6"
      },
      "execution_count": null,
      "outputs": []
    },
    {
      "cell_type": "code",
      "source": [
        "n = 2\n",
        "A=np.random.randint(-5,5,size=(n,n))\n",
        "A"
      ],
      "metadata": {
        "colab": {
          "base_uri": "https://localhost:8080/"
        },
        "outputId": "3afed09a-5ace-4583-f799-66d3fb4a89d4",
        "id": "jPpBCFaoGlak"
      },
      "execution_count": null,
      "outputs": [
        {
          "output_type": "execute_result",
          "data": {
            "text/plain": [
              "array([[0, 3],\n",
              "       [4, 0]])"
            ]
          },
          "metadata": {},
          "execution_count": 14
        }
      ]
    },
    {
      "cell_type": "code",
      "source": [
        "det(A)"
      ],
      "metadata": {
        "colab": {
          "base_uri": "https://localhost:8080/"
        },
        "outputId": "92912151-b7e6-43d9-b130-f1afee2cc0bf",
        "id": "WKbuirZeGlak"
      },
      "execution_count": null,
      "outputs": [
        {
          "output_type": "execute_result",
          "data": {
            "text/plain": [
              "-12"
            ]
          },
          "metadata": {},
          "execution_count": 15
        }
      ]
    },
    {
      "cell_type": "code",
      "source": [
        "determinant(A)"
      ],
      "metadata": {
        "colab": {
          "base_uri": "https://localhost:8080/"
        },
        "id": "_B5xBFirTvQm",
        "outputId": "ff401f81-249d-46bf-f732-3fcc90ce2be2"
      },
      "execution_count": null,
      "outputs": [
        {
          "output_type": "execute_result",
          "data": {
            "text/plain": [
              "-12"
            ]
          },
          "metadata": {},
          "execution_count": 16
        }
      ]
    },
    {
      "cell_type": "code",
      "source": [
        "np.linalg.det(A)"
      ],
      "metadata": {
        "colab": {
          "base_uri": "https://localhost:8080/"
        },
        "outputId": "8ff4d306-1529-4251-8124-fc40910a56a3",
        "id": "bRyF2dsFLbXC"
      },
      "execution_count": null,
      "outputs": [
        {
          "output_type": "execute_result",
          "data": {
            "text/plain": [
              "-12.0"
            ]
          },
          "metadata": {},
          "execution_count": 17
        }
      ]
    },
    {
      "cell_type": "code",
      "source": [
        "round(np.linalg.det(A))"
      ],
      "metadata": {
        "colab": {
          "base_uri": "https://localhost:8080/"
        },
        "outputId": "b6bbad1b-80fc-40e8-cc3f-0c8617f2fd88",
        "id": "sOe1w9FPLbXD"
      },
      "execution_count": null,
      "outputs": [
        {
          "output_type": "execute_result",
          "data": {
            "text/plain": [
              "-12"
            ]
          },
          "metadata": {},
          "execution_count": 18
        }
      ]
    },
    {
      "cell_type": "code",
      "source": [
        "n = 10\n",
        "\n",
        "A=np.random.randint(-10,10,size=(n,n))\n",
        "\n",
        "A"
      ],
      "metadata": {
        "colab": {
          "base_uri": "https://localhost:8080/"
        },
        "outputId": "4c71a793-76a2-4e24-f805-8312ea89fd6e",
        "id": "jzFX1soHGlak"
      },
      "execution_count": null,
      "outputs": [
        {
          "output_type": "execute_result",
          "data": {
            "text/plain": [
              "array([[  5, -10,   6,  -9,   2,  -3,   3,  -4,   8,  -5],\n",
              "       [  8,   1,   0,   4,   8,  -6,  -1,   7, -10,   3],\n",
              "       [ -1,  -1,  -3,  -9, -10,   7,  -2,   3,   9,   5],\n",
              "       [  0,  -2,  -3,  -7,  -4,   7,  -7,  -6,   7,   1],\n",
              "       [  2,   6,   3,   9,  -1,   8,   5, -10,  -6,   5],\n",
              "       [ -8,  -3,  -2,  -1,  -7,  -3,  -6,  -5,   9,  -4],\n",
              "       [ -2, -10,  -8,   0,   5,   5,  -3,   9,   0,   4],\n",
              "       [-10,  -9,   7,   3,  -7, -10,   3,  -4,  -4,  -8],\n",
              "       [  2,   1,  -3,   3,  -2,   1,   2,   1,  -6,  -3],\n",
              "       [ -3,   3,  -6,   6,   8, -10,   3,   0,   7,  -3]])"
            ]
          },
          "metadata": {},
          "execution_count": 19
        }
      ]
    },
    {
      "cell_type": "code",
      "source": [
        "import time\n",
        "\n",
        "start_time = time.time()\n",
        "d = det(A)\n",
        "end_time = time.time()"
      ],
      "metadata": {
        "id": "I97qAqxGGlak"
      },
      "execution_count": null,
      "outputs": []
    },
    {
      "cell_type": "code",
      "source": [
        "print(\"det(A): \",d)\n",
        "print(\"time: \",end_time - start_time)"
      ],
      "metadata": {
        "colab": {
          "base_uri": "https://localhost:8080/"
        },
        "id": "s7Ud-gBiTD0n",
        "outputId": "2f952019-76b3-45cd-871e-7c9923d22c54"
      },
      "execution_count": null,
      "outputs": [
        {
          "output_type": "stream",
          "name": "stdout",
          "text": [
            "det(A):  29129065307\n",
            "time:  73.26186466217041\n"
          ]
        }
      ]
    },
    {
      "cell_type": "code",
      "source": [
        "import time\n",
        "\n",
        "start_time = time.time()\n",
        "d = determinant(A)\n",
        "end_time = time.time()"
      ],
      "metadata": {
        "id": "kjLXFQOeTRd2"
      },
      "execution_count": null,
      "outputs": []
    },
    {
      "cell_type": "code",
      "source": [
        "print(\"determinant(A): \",d)\n",
        "print(\"time: \",end_time - start_time)"
      ],
      "metadata": {
        "colab": {
          "base_uri": "https://localhost:8080/"
        },
        "id": "_TQFWy4ZSiDZ",
        "outputId": "24723777-dc11-4e56-da7a-f6f4646d641c"
      },
      "execution_count": null,
      "outputs": [
        {
          "output_type": "stream",
          "name": "stdout",
          "text": [
            "determinant(A):  29129065307\n",
            "time:  34.23689007759094\n"
          ]
        }
      ]
    },
    {
      "cell_type": "code",
      "source": [
        "import time\n",
        "\n",
        "start_time = time.time()\n",
        "d = np.linalg.det(A)\n",
        "end_time = time.time()"
      ],
      "metadata": {
        "id": "jL23i77VT55-"
      },
      "execution_count": null,
      "outputs": []
    },
    {
      "cell_type": "code",
      "source": [
        "print(\"np.linalg.det(A): \",d)\n",
        "print(\"time: \",end_time - start_time)"
      ],
      "metadata": {
        "colab": {
          "base_uri": "https://localhost:8080/"
        },
        "id": "n94nx14VT5wn",
        "outputId": "d7bca12a-5266-450d-d09d-1a83d88ac0cc"
      },
      "execution_count": null,
      "outputs": [
        {
          "output_type": "stream",
          "name": "stdout",
          "text": [
            "np.linalg.det(A):  29129065306.99992\n",
            "time:  0.0003108978271484375\n"
          ]
        }
      ]
    },
    {
      "cell_type": "markdown",
      "source": [
        "# Estimating the time by instruction in Python in a Colab machine"
      ],
      "metadata": {
        "id": "Ssedt2z56DNC"
      }
    },
    {
      "cell_type": "code",
      "source": [
        "import numpy as np\n",
        "\n",
        "n = 100\n",
        "\n",
        "A = np.ones((n,n))\n",
        "\n",
        "A"
      ],
      "metadata": {
        "colab": {
          "base_uri": "https://localhost:8080/"
        },
        "id": "1KhlyeNi4uwa",
        "outputId": "99d18b7a-fda6-4a06-c771-16a22a0d8abd"
      },
      "execution_count": null,
      "outputs": [
        {
          "output_type": "execute_result",
          "data": {
            "text/plain": [
              "array([[1., 1., 1., ..., 1., 1., 1.],\n",
              "       [1., 1., 1., ..., 1., 1., 1.],\n",
              "       [1., 1., 1., ..., 1., 1., 1.],\n",
              "       ...,\n",
              "       [1., 1., 1., ..., 1., 1., 1.],\n",
              "       [1., 1., 1., ..., 1., 1., 1.],\n",
              "       [1., 1., 1., ..., 1., 1., 1.]])"
            ]
          },
          "metadata": {},
          "execution_count": 26
        }
      ]
    },
    {
      "cell_type": "code",
      "source": [
        "B = np.ones((n,n))\n",
        "\n",
        "B"
      ],
      "metadata": {
        "colab": {
          "base_uri": "https://localhost:8080/"
        },
        "id": "RKtHO3UY5M87",
        "outputId": "2d489a97-7bdb-4ec2-94cc-bfb437ddc57e"
      },
      "execution_count": null,
      "outputs": [
        {
          "output_type": "execute_result",
          "data": {
            "text/plain": [
              "array([[1., 1., 1., ..., 1., 1., 1.],\n",
              "       [1., 1., 1., ..., 1., 1., 1.],\n",
              "       [1., 1., 1., ..., 1., 1., 1.],\n",
              "       ...,\n",
              "       [1., 1., 1., ..., 1., 1., 1.],\n",
              "       [1., 1., 1., ..., 1., 1., 1.],\n",
              "       [1., 1., 1., ..., 1., 1., 1.]])"
            ]
          },
          "metadata": {},
          "execution_count": 27
        }
      ]
    },
    {
      "cell_type": "code",
      "source": [
        "import time\n",
        "\n",
        "C= np.zeros((n,n))\n",
        "\n",
        "start_time = time.time()\n",
        "for i in range(n):\n",
        "        for j in range(n):\n",
        "            C[i][j] = 0\n",
        "            for k in range(len(A[0])):\n",
        "                C[i][j] += A[i][k] * B[k][j]\n",
        "end_time = time.time()\n",
        "print(end_time - start_time)"
      ],
      "metadata": {
        "colab": {
          "base_uri": "https://localhost:8080/"
        },
        "id": "0UFSLi-F5P0a",
        "outputId": "78b56300-e9ba-4c46-de3b-732da7a86836"
      },
      "execution_count": null,
      "outputs": [
        {
          "output_type": "stream",
          "name": "stdout",
          "text": [
            "1.178037166595459\n"
          ]
        }
      ]
    },
    {
      "cell_type": "code",
      "source": [
        "C"
      ],
      "metadata": {
        "colab": {
          "base_uri": "https://localhost:8080/"
        },
        "id": "h9zr4Z9P61bs",
        "outputId": "de6202a2-d668-4bea-be22-c3676f30d164"
      },
      "execution_count": null,
      "outputs": [
        {
          "output_type": "execute_result",
          "data": {
            "text/plain": [
              "array([[100., 100., 100., ..., 100., 100., 100.],\n",
              "       [100., 100., 100., ..., 100., 100., 100.],\n",
              "       [100., 100., 100., ..., 100., 100., 100.],\n",
              "       ...,\n",
              "       [100., 100., 100., ..., 100., 100., 100.],\n",
              "       [100., 100., 100., ..., 100., 100., 100.],\n",
              "       [100., 100., 100., ..., 100., 100., 100.]])"
            ]
          },
          "metadata": {},
          "execution_count": 34
        }
      ]
    },
    {
      "cell_type": "code",
      "source": [
        "time_by_oper_python = (end_time - start_time)/(2*n**3 - n**2)\n",
        "\n",
        "time_by_oper_python"
      ],
      "metadata": {
        "colab": {
          "base_uri": "https://localhost:8080/"
        },
        "id": "iEhaMEK77Ko7",
        "outputId": "ae461ab5-83be-4e5e-e47c-8670b2c82574"
      },
      "execution_count": null,
      "outputs": [
        {
          "output_type": "execute_result",
          "data": {
            "text/plain": [
              "5.9197847567611e-07"
            ]
          },
          "metadata": {},
          "execution_count": 35
        }
      ]
    },
    {
      "cell_type": "code",
      "source": [
        "import time\n",
        "import numpy as np\n",
        "\n",
        "start_time = time.time()\n",
        "C = A@B\n",
        "end_time = time.time()\n",
        "print(end_time - start_time)"
      ],
      "metadata": {
        "colab": {
          "base_uri": "https://localhost:8080/"
        },
        "id": "TfGsw6UF9o-a",
        "outputId": "1b5f7777-d2d7-4dd1-c96b-66c611577d8c"
      },
      "execution_count": null,
      "outputs": [
        {
          "output_type": "stream",
          "name": "stdout",
          "text": [
            "0.0018067359924316406\n"
          ]
        }
      ]
    },
    {
      "cell_type": "code",
      "source": [
        "C"
      ],
      "metadata": {
        "colab": {
          "base_uri": "https://localhost:8080/"
        },
        "id": "Q5MtZtVT93oQ",
        "outputId": "e3a555c2-8cff-43b2-e2d1-c46558ec65aa"
      },
      "execution_count": null,
      "outputs": [
        {
          "output_type": "execute_result",
          "data": {
            "text/plain": [
              "array([[100., 100., 100., ..., 100., 100., 100.],\n",
              "       [100., 100., 100., ..., 100., 100., 100.],\n",
              "       [100., 100., 100., ..., 100., 100., 100.],\n",
              "       ...,\n",
              "       [100., 100., 100., ..., 100., 100., 100.],\n",
              "       [100., 100., 100., ..., 100., 100., 100.],\n",
              "       [100., 100., 100., ..., 100., 100., 100.]])"
            ]
          },
          "metadata": {},
          "execution_count": 37
        }
      ]
    },
    {
      "cell_type": "code",
      "source": [
        "time_by_oper_numpy = (end_time - start_time)/(2*n**3 - n**2)\n",
        "\n",
        "time_by_oper_numpy"
      ],
      "metadata": {
        "colab": {
          "base_uri": "https://localhost:8080/"
        },
        "id": "DTVYQYxT-TsJ",
        "outputId": "a3a68899-a110-42dd-f799-1eb11aaf9f90"
      },
      "execution_count": null,
      "outputs": [
        {
          "output_type": "execute_result",
          "data": {
            "text/plain": [
              "9.079075338852465e-10"
            ]
          },
          "metadata": {},
          "execution_count": 38
        }
      ]
    },
    {
      "cell_type": "markdown",
      "source": [
        "# Time estimation for the digital computer computation of a 3 x 3 matrix determinant by cofactor expansion\n",
        "\n",
        "The number of operations $(+,-,*)$ perfomed  *det(A)* algorithm that calculates\n",
        "\n",
        "$$\\det(A)  = \\sum_{j=1}^n (-1)^{i+j}a_{ij} \\det(A(i∣j)) $$\n",
        "\n",
        "is given by\n",
        "\n",
        "$$\\begin{array}{lll}\n",
        "T(n) & =&  nT(n-1) + 5n , T(1) = 1\\\\\n",
        "\\end{array}\n",
        "$$\n",
        "\n",
        "$$\\begin{array}{lll}\n",
        "T(n) & =&  nT(n-1) + 5n\\\\\n",
        "     & =&  n[(n-1) T(n-2) + 5 (n-1) +10] + 5n  \\\\\n",
        "     & =&  n(n-1) T(n-2) + 5 n  (n-1) + 5n \\\\\n",
        "     & =&  n(n-1) [(n-2) T(n-3) + 5 (n-2)] + 5 n(n-1) + 5n\\\\\n",
        "     & = & n(n-1)(n-2) T(n-3) + 5n(n-1)(n-2)+  5 n  (n-1) + 5n \\\\\n",
        "     & \\vdots\\\\\n",
        "     & = &  n(n-1)(n-2)\\cdots (n -(n-2))  T(1) + [5n(n-1)(n-2)(n-3)\\cdots (n -(n-3))] + \\cdots + [5 n (n-1)]+ 5n \\\\\n",
        "    & = & n! + [5n(n-1)(n-2)(n-3)\\cdots 2] + [5n(n-1)(n-2)(n-3)\\cdots 3]+ \\cdots +[5 n (n-1) (n-3)] + [5 n (n-1)]+ 5n  \n",
        "\\end{array}\n",
        "$$\n",
        "\n",
        "$$T(n) = n! + 5 \\sum_{i=0}^{n-1} n!/i! = n! + 5 n!\\sum_{i=0}^{n-1} \\frac{1}{i!} < n! + 5 e n! < 16 n!  $$\n",
        "\n",
        "1. Asumming that an arithmetic operation takes the *time_by_oper_python* estimated before,  what is the maximun square matrix size for which the deteminant can be computed with cofactor extesion in $\\le$ 3 minute. Report the time at [LABCramer](https://docs.google.com/spreadsheets/d/1JNUbuj3QHcyPmp8i6kNreUFucj2mOvKHkCFHHy7zfws/edit?usp=sharing).\n",
        "\n",
        "2. Run an experiment with a random matrix of that size and report the time at [LABCramer](https://docs.google.com/spreadsheets/d/1JNUbuj3QHcyPmp8i6kNreUFucj2mOvKHkCFHHy7zfws/edit?usp=sharing).\n",
        "\n",
        "If the determinant of a $n \\times n$ square matrix takes $16 n!$ operations how much takes the Crammer solution of $n \\times n$ systems of linear equations?\n",
        "\n",
        "\n",
        "\n",
        "\n"
      ],
      "metadata": {
        "id": "PhAai3wzo_Tc"
      }
    },
    {
      "cell_type": "markdown",
      "source": [
        "### Punto 1"
      ],
      "metadata": {
        "id": "1Q2_AgMR74mR"
      }
    },
    {
      "cell_type": "code",
      "source": [
        "import time\n",
        "import math\n",
        "time_op = time_by_oper_python\n",
        "\n",
        "def num_operations(size):\n",
        "    if size==1:\n",
        "        return 1\n",
        "    return size * num_operations(size - 1) + 5 * size\n",
        "    # operaciones = math.factorial(size) + 5 * math.e * math.factorial(size)\n",
        "    # return operaciones\n",
        "\n",
        "def max_matrix_size(max_time):\n",
        "    min_to_sec = max_time * 60\n",
        "    current_size = 0\n",
        "    result = 0\n",
        "\n",
        "    while result <= min_to_sec:\n",
        "        current_size += 1\n",
        "        result = num_operations(current_size) * time_op\n",
        "\n",
        "    current_size -= 1\n",
        "    result_final = num_operations(current_size) * time_op\n",
        "    return [current_size, result_final]\n",
        "\n",
        "\n",
        "max_size = max_matrix_size(3)[0]\n",
        "max_size\n",
        "\n",
        "print(\"Max size of matrix: \" + str(max_size) + \"\\nTime: \" + str(max_matrix_size(3)[1]))"
      ],
      "metadata": {
        "colab": {
          "base_uri": "https://localhost:8080/"
        },
        "id": "qRYjM2pM_LGC",
        "outputId": "a28d8016-4ff0-4305-811d-0143764cbfc9"
      },
      "execution_count": null,
      "outputs": [
        {
          "output_type": "stream",
          "name": "stdout",
          "text": [
            "Max size of matrix: 10\n",
            "Time: 20.60398843944971\n"
          ]
        }
      ]
    },
    {
      "cell_type": "markdown",
      "source": [
        "### Punto 2"
      ],
      "metadata": {
        "id": "jnD-lhZUOMdb"
      }
    },
    {
      "cell_type": "code",
      "source": [
        "matrix_size = np.random.randint(-10,10,size=(max_size,max_size))\n",
        "start_time_1 = time.time()\n",
        "determinant_1 = det(matrix_size)\n",
        "final_time_1 = time.time() - start_time_1\n",
        "print(f\"El tiempo de ejecución usando det(A) es de: {final_time_1} segundos\")\n",
        "print(f\"El determinante con det(A) es: {determinant_1}\")\n",
        "\n",
        "start_time_2 = time.time()\n",
        "determinant_2 = np.linalg.det(matrix_size)\n",
        "final_time_2 = time.time() - start_time_2\n",
        "\n",
        "print(f\"El tiempo de ejecución usando np.linalg.det(A) es de: {final_time_2} segundos\")\n",
        "print(f\"El determinante con np.linalg.det(A) es: {determinant_2}\")\n"
      ],
      "metadata": {
        "colab": {
          "base_uri": "https://localhost:8080/"
        },
        "id": "LXwA8LS7DbLK",
        "outputId": "fc2fd6ae-4796-4c41-ea98-8e9ebc7b96d9"
      },
      "execution_count": null,
      "outputs": [
        {
          "output_type": "stream",
          "name": "stdout",
          "text": [
            "El tiempo de ejecución usando det(A) es de: 72.40193915367126 segundos\n",
            "El determinante con det(A) es: -2290186236\n",
            "El tiempo de ejecución usando np.linalg.det(A) es de: 0.00025343894958496094 segundos\n",
            "El determinante con np.linalg.det(A) es: -2290186236.0000076\n"
          ]
        }
      ]
    },
    {
      "cell_type": "markdown",
      "source": [
        "Pregunta:\n",
        "\n",
        "If the determinant of a  $n×n$  square matrix takes  $16n!$  operations how much takes the Crammer solution of  $n×n$  systems of linear equations?\n",
        "\n",
        "Respuesta:\n",
        "\n",
        "Según la siguiente fuente ([regla de Crammer](https://www.thermopedia.com/content/672/#:~:text=The%20number%20of%20operations%20required,to%20(n%2B1))), la cantidad de operaciones aproximada en la regla de Cramer es proporcional al calculo de $(n-1)$ determinantes, esto indica que para obtener la respuesta de solución a una matriz por regla de Cramer, se requieren $(n-1) \\cdot 16n!$ operaciones."
      ],
      "metadata": {
        "id": "_waNtmWQQgmR"
      }
    },
    {
      "cell_type": "markdown",
      "source": [
        "# Time estimation for the human computer computation of a 3 x 3 matrix determinant by cofactor expansion\n",
        "\n",
        " Write a 3 x 3 matrix with the first element as your list number Mod 10 and the rest row by row 1,2,3,...9 skipimg the first element, by example if youir list number is 12, your list number Mod 10 is 2 and the matrix is\n",
        "$$A = \\left[\n",
        "  \\begin{array}{ccc}\n",
        "2 & 1 & 3\\\\\n",
        "4 & 5 & 6\\\\\n",
        "7 & 8 & 9\\\\\n",
        "\\end{array}\n",
        "\\right]\n",
        "$$\n",
        "Use a chronometer like http://online-stopwatch.chronme.com/ to estimate the time to compute the determinant by using the procedure in the follo wing exmaple (https://people.math.carleton.ca/~kcheung/math/notes/MATH1107/07/07_cofactor_expansion.html):<br />  \n",
        "Let\n",
        "$$A = \\begin{bmatrix} 1 & 2 & 3\\\\ 4 & 5 & 6\\\\ 7 & 8 & 9 \\end{bmatrix}$$\n",
        "we compute $\\det(A)$ by expanding along row $2$ as <br /> <br />\n",
        "$$\\begin{eqnarray} \\det(A) & = & (-1)^{2+1}A_{2,1}\\det(A(2 \\mid 1)) + (-1)^{2+2}A_{2,2}\\det(A(2 \\mid 2)) + (-1)^{2+3}A_{2,3}\\det(A(2 \\mid 3)) \\\\ & = & -4\\left|\\begin{matrix} 2 & 3 \\\\ 8 & 9\\end{matrix}\\right| + 5\\left|\\begin{matrix} 1 & 3 \\\\ 7 & 9\\end{matrix}\\right| - 6\\left|\\begin{matrix} 1 & 2 \\\\ 7 & 8\\end{matrix}\\right| \\\\ & = & -4(2\\cdot 9 - 3\\cdot 8) + 5(1 \\cdot 9- 3\\cdot 7) - 6(1\\cdot 8 - 2 \\cdot 7) \\\\ & = & 24 - 60 + 36 \\\\ & = & 0 \\end{eqnarray}$$\n",
        "3. Report the time at [LABCramer](https://docs.google.com/spreadsheets/d/1JNUbuj3QHcyPmp8i6kNreUFucj2mOvKHkCFHHy7zfws/edit?usp=sharing)\n",
        "4. Report the value of the determinant at [LABCramer](https://docs.google.com/spreadsheets/d/1JNUbuj3QHcyPmp8i6kNreUFucj2mOvKHkCFHHy7zfws/edit?usp=sharing)\n"
      ],
      "metadata": {
        "id": "__brdhGadAXY"
      }
    },
    {
      "cell_type": "markdown",
      "source": [
        "\n",
        "\n",
        "---\n",
        "\n"
      ],
      "metadata": {
        "id": "zFm1fBUL-T9z"
      }
    },
    {
      "cell_type": "markdown",
      "source": [
        "***Matriz propia*** \\\\\n",
        "\\begin{gather}\n",
        "    \\text{Número en la lista: } 50\\\\\n",
        "    50mod(10)=0\n",
        "\\end{gather}\n",
        "Matriz resultante:\n",
        "\n",
        "\\begin{equation}\n",
        "A =\n",
        "    \\begin{pmatrix}\n",
        "    0 & 1 & 2 \\\\\n",
        "    3 & 4 & 5 \\\\\n",
        "    6 & 7 & 8\n",
        "    \\end{pmatrix}\n",
        "\\end{equation}"
      ],
      "metadata": {
        "id": "v4MwL3ad-cz-"
      }
    },
    {
      "cell_type": "markdown",
      "source": [
        "### Punto 3"
      ],
      "metadata": {
        "id": "-yOpV4xp0btu"
      }
    },
    {
      "cell_type": "markdown",
      "source": [
        "Tiempo estimado de calculo de determinante a mano: *00:00:58.523*\n",
        "\n",
        "###\tLabel\tInterval\tTotal\tTime Recorded\n",
        "2\tPause\t---\t---\tThu, 2 May 2024, 15:17:32.925\n",
        "1\tSplit\t00:00:58.523\t00:00:58.523\tThu, 2 May 2024, 15:17:32.925\n",
        "\tStart\t---\t---\tThu, 2 May 2024, 15:16:34.402"
      ],
      "metadata": {
        "id": "WzsUd3N1-hFH"
      }
    },
    {
      "cell_type": "markdown",
      "source": [
        "![image.png](data:image/png;base64,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)"
      ],
      "metadata": {
        "id": "7bV-HjA6U5Mu"
      }
    },
    {
      "cell_type": "markdown",
      "source": [
        "Tiempo por medio de algoritmo:"
      ],
      "metadata": {
        "id": "XFGDrutYJ3VY"
      }
    },
    {
      "cell_type": "code",
      "source": [
        "import numpy as np\n",
        "import time\n",
        "\n",
        "matriz_propia = np.array([[0,1,2],[3,4,5],[6,7,8]])\n",
        "\n",
        "def det_cofactor_exp(matrix):\n",
        "    a, b, c = matrix[0]\n",
        "    det_1 = a * ((matrix[1][1] * matrix[2][2]) - (matrix[1][2] * matrix[2][1]))\n",
        "    det_2 = (-1) * b * ((matrix[1][0] * matrix[2][2]) - (matrix[1][2] * matrix[2][0]))\n",
        "    det_3 = c * ((matrix[1][0] * matrix[2][1]) - (matrix[1][1] * matrix[2][0]))\n",
        "    return det_1 + det_2 + det_3\n",
        "\n",
        "start_time_det = time.time()\n",
        "det_matriz_propia = det_cofactor_exp(matriz_propia)\n",
        "final_time_det = time.time() - start_time_det\n",
        "\n",
        "print(f\"El resultado de la matriz propia es: {det_matriz_propia}\")\n",
        "print(f\"El tiempo de ejecución fue de: {final_time_det} segundos\")"
      ],
      "metadata": {
        "colab": {
          "base_uri": "https://localhost:8080/"
        },
        "id": "cHfS6zrpHCrj",
        "outputId": "a4be0138-3273-4ee5-8842-167016c945df"
      },
      "execution_count": null,
      "outputs": [
        {
          "output_type": "stream",
          "name": "stdout",
          "text": [
            "El resultado de la matriz propia es: 0\n",
            "El tiempo de ejecución fue de: 0.0025773048400878906 segundos\n"
          ]
        }
      ]
    },
    {
      "cell_type": "markdown",
      "source": [
        "### Punto 4"
      ],
      "metadata": {
        "id": "YrJ3CRLk0vst"
      }
    },
    {
      "cell_type": "markdown",
      "source": [
        "El resultado del determinante es 0,\n",
        "\n",
        "\\begin{equation}\n",
        "A =\n",
        "    \\begin{pmatrix}\n",
        "    0 & 1 & 2 \\\\\n",
        "    3 & 4 & 5 \\\\\n",
        "    6 & 7 & 8\n",
        "    \\end{pmatrix}\n",
        "\\end{equation}\n",
        "\n",
        "Calculo el $\\det(A)$ por medio de la fila $1$ como: <br /> <br />\n",
        "$$\\begin{eqnarray}\n",
        " \\det(A)\n",
        " & = & (-1)^{1+1}A_{1,1}\\det(A(1 \\mid 1)) + (-1)^{1+2}A_{1,2}\\det(A(1 \\mid 2)) + (-1)^{1+3}A_{1,3}\\det(A(1 \\mid 3)) \\\\\n",
        " & = & 0\\left|\\begin{matrix} 4 & 5 \\\\ 7 & 8\\end{matrix}\\right|\n",
        "     - 1\\left|\\begin{matrix} 3 & 5 \\\\ 6 & 8\\end{matrix}\\right|\n",
        "     + 2\\left|\\begin{matrix} 3 & 4 \\\\ 6 & 7\\end{matrix}\\right| \\\\\n",
        "& = & 0(4\\cdot 8 - 5\\cdot 7) - 1(3 \\cdot 8- 5\\cdot 6) + 2(3\\cdot 7 - 4 \\cdot 6) \\\\ & = & 0 + 6 - 6 \\\\\n",
        "& = & 0\n",
        "\\end{eqnarray}$$\n",
        "\n"
      ],
      "metadata": {
        "id": "ncS1Abh1-p7G"
      }
    }
  ]
}