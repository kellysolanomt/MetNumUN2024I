{
  "nbformat": 4,
  "nbformat_minor": 0,
  "metadata": {
    "colab": {
      "provenance": [],
      "include_colab_link": true
    },
    "kernelspec": {
      "name": "python3",
      "display_name": "Python 3"
    }
  },
  "cells": [
    {
      "cell_type": "markdown",
      "metadata": {
        "id": "view-in-github",
        "colab_type": "text"
      },
      "source": [
        "<a href=\"https://colab.research.google.com/github/kellysolanomt/MetNumUN2024I/blob/main/Quiz9.1/Quiz_ksolanoc_SymPy.ipynb\" target=\"_parent\"><img src=\"https://colab.research.google.com/assets/colab-badge.svg\" alt=\"Open In Colab\"/></a>"
      ]
    },
    {
      "cell_type": "markdown",
      "source": [
        "*Presentado por Kelly Johana Solano Calderón* 💗"
      ],
      "metadata": {
        "id": "ODWqsPtfUMDW"
      }
    },
    {
      "cell_type": "markdown",
      "source": [
        "# 1. Solve the using *LUsolve* from sympy the   2 $\\times$ 2 system $Ax=b$, inside the function *LUsolve_2_by_2_lin_sys* with\n",
        "\n",
        "$$A = \\left[\n",
        "  \\begin{array}{cc}\n",
        "e & i\\\\\n",
        " \\sqrt{2}& \\pi\n",
        "\\end{array}\n",
        "\\right]\n",
        "$$\n",
        "\n",
        "$$b  = \\left[\n",
        "  \\begin{array}{c}\n",
        "\\sqrt{3} \\\\\n",
        "1\n",
        "\\end{array}\n",
        "\\right]\n",
        "$$"
      ],
      "metadata": {
        "id": "Voh5FtIzbcn3"
      }
    },
    {
      "cell_type": "code",
      "source": [
        "from sympy import *\n",
        "init_printing()\n",
        "\n",
        "def LUsolve_2_by_2_lin_sys():\n",
        "\n",
        "  A = Matrix([[E,I],\n",
        "            [sqrt(2),pi]])\n",
        "  b = Matrix(2,1,[sqrt(3),1])\n",
        "\n",
        "  x = A.LUsolve(b)\n",
        "\n",
        "  return x"
      ],
      "metadata": {
        "id": "2rXVy2w_Re5Z"
      },
      "execution_count": null,
      "outputs": []
    },
    {
      "cell_type": "markdown",
      "source": [
        "# 2. Solve the using *solve* from sympy the   2 $\\times$ 2 system $Ax=b$, inside the function *solve_2_by_2_lin_sys* with\n",
        "\n",
        "$$A = \\left[\n",
        "  \\begin{array}{cc}\n",
        "e & i\\\\\n",
        " \\sqrt{2}& \\pi\n",
        "\\end{array}\n",
        "\\right]\n",
        "$$\n",
        "\n",
        "$$b  = \\left[\n",
        "  \\begin{array}{c}\n",
        "\\sqrt{3} \\\\\n",
        "1\n",
        "\\end{array}\n",
        "\\right]\n",
        "$$"
      ],
      "metadata": {
        "id": "zTeu2Yzicj0m"
      }
    },
    {
      "cell_type": "code",
      "source": [
        "from sympy import *\n",
        "init_printing()\n",
        "\n",
        "def solve_2_by_2_lin_sys():\n",
        "#   E, I, pi = symbols('E I pi')\n",
        "  A = Matrix([[E,I],\n",
        "            [sqrt(2),pi]])\n",
        "  b = Matrix(2,1,[sqrt(3),1])\n",
        "  x = Matrix(2,1,symbols('x1:3'))\n",
        "  sol = linsolve(list(Matrix(A@x-b)), list(x))\n",
        "  return sol"
      ],
      "metadata": {
        "id": "56WRBbMTReea"
      },
      "execution_count": null,
      "outputs": []
    }
  ]
}