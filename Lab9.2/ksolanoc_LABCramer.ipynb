{
  "nbformat": 4,
  "nbformat_minor": 0,
  "metadata": {
    "colab": {
      "provenance": [],
      "include_colab_link": true
    },
    "kernelspec": {
      "name": "python3",
      "display_name": "Python 3"
    },
    "language_info": {
      "name": "python"
    }
  },
  "cells": [
    {
      "cell_type": "markdown",
      "metadata": {
        "id": "view-in-github",
        "colab_type": "text"
      },
      "source": [
        "<a href=\"https://colab.research.google.com/github/kellysolanomt/MetNumUN2024I/blob/main/Lab9.2/ksolanoc_LABCramer.ipynb\" target=\"_parent\"><img src=\"https://colab.research.google.com/assets/colab-badge.svg\" alt=\"Open In Colab\"/></a>"
      ]
    },
    {
      "cell_type": "markdown",
      "source": [
        "*Presentado por Kelly Johana Solano Calderón* 💗\n"
      ],
      "metadata": {
        "id": "YRFzs-kU6wCd"
      }
    },
    {
      "cell_type": "markdown",
      "source": [
        "### Cramer by hand\n",
        "\n",
        "$$A = \\left[\n",
        "  \\begin{array}{cc}\n",
        "1 & 2\\\\\n",
        "3 & 4\n",
        "\\end{array}\n",
        "\\right],  \n",
        "b= \\left[\n",
        "\\begin{array}{c}\n",
        "5\\\\\n",
        "6\n",
        "\\end{array}\n",
        "\\right]\n",
        "$$\n",
        "$$\n",
        "Ax =B\n",
        "$$\n",
        "$$  \n",
        "\\left[\n",
        "  \\begin{array}{cc}\n",
        "1 & 2\\\\\n",
        "3 & 4\n",
        "\\end{array}\n",
        "\\right]\n",
        "\\left[\n",
        "\\begin{array}{c}\n",
        "x_1\\\\\n",
        "x_2\n",
        "\\end{array}\n",
        "\\right]  \n",
        "=\n",
        "\\left[\n",
        "\\begin{array}{c}\n",
        "5\\\\\n",
        "6\n",
        "\\end{array}\n",
        "\\right]\n",
        "$$\n",
        "\n",
        "$$Det\\ A =  (1 * 4) - (3 * 2)  = 4 - 6 = -2$$\n",
        "\n",
        "$$A_1 = \\left[\n",
        "  \\begin{array}{cc}\n",
        "5 & 2\\\\\n",
        "6 & 4\n",
        "\\end{array}\n",
        "\\right]\n",
        "$$\n",
        "\n",
        "$$Det\\ A_1 = (5 * 4) - (6 * 2) = 20 - 12 =  8$$\n",
        "\n",
        "$$x_1 =  \\frac{Det\\ A_1}{Det\\ A}= \\frac{8}{-2} =  -4$$\n",
        "\n",
        "$$A_2 = \\left[\n",
        "  \\begin{array}{cc}\n",
        "1 & 5\\\\\n",
        "3 & 6\n",
        "\\end{array}\n",
        "\\right]\n",
        "$$\n",
        "\n",
        "$$Det\\ A_2 = (1*6) - (3*5)  = 6 -15 = -9$$\n",
        "\n",
        "$$x_2 = \\frac{Det\\ A_2}{Det\\ A}= \\frac{-9}{-2} =  \\frac{9}{2}$$"
      ],
      "metadata": {
        "id": "SUmNm2PmfHU7"
      }
    },
    {
      "cell_type": "markdown",
      "source": [
        "- ***Adding a single digit to any number requires about 7.30 bits of processing.*** - World Mental Calculation: News and Resources for Competitive and Advanced Mental Calculation https://worldmentalcalculation.com/2019/06/30/fastest-possible-processing-speed-of-the-human-brain/\n",
        "\n",
        "- ***The human brain can process 11 million bits of information every second. But our conscious minds can handle only 40 to 50 bits of information a second.*** - Understanding Unconscious Bias https://www.npr.org/2020/07/14/891140598/understanding-unconscious-bias\n",
        "\n",
        "- ***A new way to analyze human reaction times shows that the brain processes data no faster than 60 bits per second.***- New Measure of Human Brain Processing Speed https://www.technologyreview.com/2009/08/25/210267/new-measure-of-human-brain-processing-speed/\n",
        "\n",
        "\n"
      ],
      "metadata": {
        "id": "3rH8z64pk2XV"
      }
    },
    {
      "cell_type": "markdown",
      "source": [
        "# Number of operations to compute a determinant by cofactor expasion\n",
        "- Cofactor expansion https://people.math.carleton.ca/~kcheung/math/notes/MATH1107/07/07_cofactor_expansion.html\n",
        "## Definition of A(i∣j)\n",
        "Let $A$ be an $n\\times n$ matrix. Let $i,j \\in \\{1,…,n\\}$. We define $A(i∣j)$  to be the matrix obtained from $A$ by removing row $i$ and column $j$ from $A$.\n",
        "\n",
        "## Cofactor formula\n",
        "One way of computing the determinant of an $n\\times n$  matrix\n",
        "\n",
        "$$A = \\left[\n",
        "  \\begin{array}{cccc}\n",
        "a_{11} & a_{12} & \\cdots & a_{1n}\\\\\n",
        "a_{21} & a_{22} & \\cdots & a_{2n}\\\\\n",
        "\\vdots  & \\vdots & \\ddots & \\vdots\\\\\n",
        "a_{n1} & a_{n2} & \\cdots & a_{nn}\\\\\n",
        "\\end{array}\n",
        "\\right]\n",
        "$$\n",
        "is to use the following formula called the cofactor formula.\n",
        "\n",
        "Pick either any $i\\ \\in \\{1,…,n\\}$ (fixed row) or $i\\ \\in \\{1,…,n\\}$ (fixed column). Then\n",
        "\n",
        "$$\\det(A)  = \\sum_{j=1}^n (-1)^{i+j}a_{ij} \\det(A(i∣j)) $$\n",
        "\n",
        "\n",
        "$C_{i,j}= (-1)^{i+j}a_{ij} \\det(A(i∣j))$ is called a cofactor of $A$.\n",
        "\n",
        "$$\\det(A)  = \\sum_{j=1}^n C_{i,j} $$\n",
        "\n"
      ],
      "metadata": {
        "id": "CgrSIpDOnaGQ"
      }
    },
    {
      "cell_type": "code",
      "source": [
        "# Code from https://stackoverflow.com/questions/16510111/computing-determinant-of-a-matrix-nxn-recursively\n",
        "\n",
        "import numpy as np\n",
        "\n",
        "def smaller_matrix(original_matrix,row, column):\n",
        "    for ii in range(len(original_matrix)):\n",
        "        new_matrix=np.delete(original_matrix,ii,0)\n",
        "        new_matrix=np.delete(new_matrix,column,1)\n",
        "        return new_matrix\n",
        "\n",
        "\n",
        "def determinant(matrix):\n",
        "    \"\"\"Returns a determinant of a matrix by recursive method.\"\"\"\n",
        "    (r,c) = matrix.shape\n",
        "    if r != c:\n",
        "        print(\"Error!Not a square matrix!\")\n",
        "        return None\n",
        "    elif r==2:\n",
        "        simple_determinant = matrix[0][0]*matrix[1][1]-matrix[0][1]*matrix[1][0]\n",
        "        return simple_determinant\n",
        "    else:\n",
        "        answer=0\n",
        "        for j in range(r):\n",
        "            cofactor = (-1)**(0+j) * matrix[0][j] * determinant(smaller_matrix(matrix, 0, j))\n",
        "            answer+= cofactor\n",
        "        return answer"
      ],
      "metadata": {
        "id": "J-joKRBhC7eF"
      },
      "execution_count": null,
      "outputs": []
    },
    {
      "cell_type": "code",
      "source": [
        "#test the function\n",
        "#Only works for numpy.array input\n",
        "np.random.seed(1)"
      ],
      "metadata": {
        "id": "Il2pcRD4DptG"
      },
      "execution_count": null,
      "outputs": []
    },
    {
      "cell_type": "code",
      "source": [
        "n = 2\n",
        "matrix=np.random.randint(-5,5,size=(n,n))\n",
        "matrix"
      ],
      "metadata": {
        "colab": {
          "base_uri": "https://localhost:8080/"
        },
        "id": "AgKC1-aiFRW2",
        "outputId": "8fe19e6d-defd-45b2-d941-1da97cab0324"
      },
      "execution_count": null,
      "outputs": [
        {
          "output_type": "execute_result",
          "data": {
            "text/plain": [
              "array([[0, 3],\n",
              "       [4, 0]])"
            ]
          },
          "metadata": {},
          "execution_count": 4
        }
      ]
    },
    {
      "cell_type": "code",
      "source": [
        "determinant(matrix)"
      ],
      "metadata": {
        "colab": {
          "base_uri": "https://localhost:8080/"
        },
        "outputId": "167f1dcf-49fb-4585-fe8b-bc99a0bf27f0",
        "id": "oI0rUp-SDptH"
      },
      "execution_count": null,
      "outputs": [
        {
          "output_type": "execute_result",
          "data": {
            "text/plain": [
              "-12"
            ]
          },
          "metadata": {},
          "execution_count": 5
        }
      ]
    },
    {
      "cell_type": "code",
      "source": [
        "np.linalg.det(matrix)"
      ],
      "metadata": {
        "colab": {
          "base_uri": "https://localhost:8080/"
        },
        "id": "iqZv7iK-KKXH",
        "outputId": "f2782eb9-76c3-4354-b0e9-8ddd78cb40ce"
      },
      "execution_count": null,
      "outputs": [
        {
          "output_type": "execute_result",
          "data": {
            "text/plain": [
              "-12.0"
            ]
          },
          "metadata": {},
          "execution_count": 6
        }
      ]
    },
    {
      "cell_type": "code",
      "source": [
        "round(np.linalg.det(matrix))"
      ],
      "metadata": {
        "colab": {
          "base_uri": "https://localhost:8080/"
        },
        "id": "sY21rHM-KdlO",
        "outputId": "abf0d3c9-7034-49ce-86bf-3a6cf55435b4"
      },
      "execution_count": null,
      "outputs": [
        {
          "output_type": "execute_result",
          "data": {
            "text/plain": [
              "-12"
            ]
          },
          "metadata": {},
          "execution_count": 7
        }
      ]
    },
    {
      "cell_type": "code",
      "source": [
        "n = 5\n",
        "matrix=np.diag(np.random.randint(-10,10,size=(n)))\n",
        "matrix"
      ],
      "metadata": {
        "colab": {
          "base_uri": "https://localhost:8080/"
        },
        "id": "-QXGZWFIDs5k",
        "outputId": "8948ed85-5436-49aa-b6d8-1b2b8aa2fa17"
      },
      "execution_count": null,
      "outputs": [
        {
          "output_type": "execute_result",
          "data": {
            "text/plain": [
              "array([[  5,   0,   0,   0,   0],\n",
              "       [  0, -10,   0,   0,   0],\n",
              "       [  0,   0,   6,   0,   0],\n",
              "       [  0,   0,   0,  -9,   0],\n",
              "       [  0,   0,   0,   0,   2]])"
            ]
          },
          "metadata": {},
          "execution_count": 8
        }
      ]
    },
    {
      "cell_type": "code",
      "source": [
        "determinant(matrix)"
      ],
      "metadata": {
        "colab": {
          "base_uri": "https://localhost:8080/"
        },
        "id": "VP6hRwhwD-3W",
        "outputId": "f5097741-9ccb-415c-c1b3-45e59905297b"
      },
      "execution_count": null,
      "outputs": [
        {
          "output_type": "execute_result",
          "data": {
            "text/plain": [
              "5400"
            ]
          },
          "metadata": {},
          "execution_count": 9
        }
      ]
    },
    {
      "cell_type": "code",
      "source": [
        "np.linalg.det(matrix)"
      ],
      "metadata": {
        "colab": {
          "base_uri": "https://localhost:8080/"
        },
        "id": "8NV7Zvp-KtRz",
        "outputId": "9a18577e-7bcb-4abb-c2b1-050c47ebd3bf"
      },
      "execution_count": null,
      "outputs": [
        {
          "output_type": "execute_result",
          "data": {
            "text/plain": [
              "5400.000000000003"
            ]
          },
          "metadata": {},
          "execution_count": 10
        }
      ]
    },
    {
      "cell_type": "code",
      "source": [
        "round(np.linalg.det(matrix))"
      ],
      "metadata": {
        "colab": {
          "base_uri": "https://localhost:8080/"
        },
        "id": "HXKK3weLKt5T",
        "outputId": "f0229464-26e9-4a35-88c7-0b59e37f72b8"
      },
      "execution_count": null,
      "outputs": [
        {
          "output_type": "execute_result",
          "data": {
            "text/plain": [
              "5400"
            ]
          },
          "metadata": {},
          "execution_count": 11
        }
      ]
    },
    {
      "cell_type": "code",
      "source": [
        "# Modified from the previous code\n",
        "import numpy as np\n",
        "\n",
        "# A a squared numpy matrix\n",
        "def det(A):\n",
        "    \"\"\"Returns a determinant of a matrix by recursive method.\"\"\"\n",
        "    (r,c) = A.shape\n",
        "    if r != c:\n",
        "        print(\"Error!Not a square matrix!\")\n",
        "        return None\n",
        "    elif r==1:\n",
        "          # the code with  r==2 is more efficient but we use this\n",
        "         # because the number of operations is easier to compute\n",
        "        return A[0][0]\n",
        "    else:\n",
        "        answer=0\n",
        "        for j in range(r):\n",
        "            s = 1 if (0+j)%2 == 0 else -1\n",
        "            Aij = np.delete(A,0,0)\n",
        "            Aij = np.delete(Aij,j,1)\n",
        "            cofactor = (s) * A[0][j] * det(Aij)\n",
        "            answer+= cofactor\n",
        "        return answer"
      ],
      "metadata": {
        "id": "B258g8lnBgnG"
      },
      "execution_count": null,
      "outputs": []
    },
    {
      "cell_type": "code",
      "source": [
        "#test the function\n",
        "#Only works for numpy.array input\n",
        "np.random.seed(1)"
      ],
      "metadata": {
        "id": "ZR2mjlqiGdM6"
      },
      "execution_count": null,
      "outputs": []
    },
    {
      "cell_type": "code",
      "source": [
        "n = 2\n",
        "A=np.random.randint(-5,5,size=(n,n))\n",
        "A"
      ],
      "metadata": {
        "colab": {
          "base_uri": "https://localhost:8080/"
        },
        "outputId": "3afed09a-5ace-4583-f799-66d3fb4a89d4",
        "id": "jPpBCFaoGlak"
      },
      "execution_count": null,
      "outputs": [
        {
          "output_type": "execute_result",
          "data": {
            "text/plain": [
              "array([[0, 3],\n",
              "       [4, 0]])"
            ]
          },
          "metadata": {},
          "execution_count": 14
        }
      ]
    },
    {
      "cell_type": "code",
      "source": [
        "det(A)"
      ],
      "metadata": {
        "colab": {
          "base_uri": "https://localhost:8080/"
        },
        "outputId": "92912151-b7e6-43d9-b130-f1afee2cc0bf",
        "id": "WKbuirZeGlak"
      },
      "execution_count": null,
      "outputs": [
        {
          "output_type": "execute_result",
          "data": {
            "text/plain": [
              "-12"
            ]
          },
          "metadata": {},
          "execution_count": 15
        }
      ]
    },
    {
      "cell_type": "code",
      "source": [
        "determinant(A)"
      ],
      "metadata": {
        "colab": {
          "base_uri": "https://localhost:8080/"
        },
        "id": "_B5xBFirTvQm",
        "outputId": "ff401f81-249d-46bf-f732-3fcc90ce2be2"
      },
      "execution_count": null,
      "outputs": [
        {
          "output_type": "execute_result",
          "data": {
            "text/plain": [
              "-12"
            ]
          },
          "metadata": {},
          "execution_count": 16
        }
      ]
    },
    {
      "cell_type": "code",
      "source": [
        "np.linalg.det(A)"
      ],
      "metadata": {
        "colab": {
          "base_uri": "https://localhost:8080/"
        },
        "outputId": "8ff4d306-1529-4251-8124-fc40910a56a3",
        "id": "bRyF2dsFLbXC"
      },
      "execution_count": null,
      "outputs": [
        {
          "output_type": "execute_result",
          "data": {
            "text/plain": [
              "-12.0"
            ]
          },
          "metadata": {},
          "execution_count": 17
        }
      ]
    },
    {
      "cell_type": "code",
      "source": [
        "round(np.linalg.det(A))"
      ],
      "metadata": {
        "colab": {
          "base_uri": "https://localhost:8080/"
        },
        "outputId": "b6bbad1b-80fc-40e8-cc3f-0c8617f2fd88",
        "id": "sOe1w9FPLbXD"
      },
      "execution_count": null,
      "outputs": [
        {
          "output_type": "execute_result",
          "data": {
            "text/plain": [
              "-12"
            ]
          },
          "metadata": {},
          "execution_count": 18
        }
      ]
    },
    {
      "cell_type": "code",
      "source": [
        "n = 10\n",
        "\n",
        "A=np.random.randint(-10,10,size=(n,n))\n",
        "\n",
        "A"
      ],
      "metadata": {
        "colab": {
          "base_uri": "https://localhost:8080/"
        },
        "outputId": "4c71a793-76a2-4e24-f805-8312ea89fd6e",
        "id": "jzFX1soHGlak"
      },
      "execution_count": null,
      "outputs": [
        {
          "output_type": "execute_result",
          "data": {
            "text/plain": [
              "array([[  5, -10,   6,  -9,   2,  -3,   3,  -4,   8,  -5],\n",
              "       [  8,   1,   0,   4,   8,  -6,  -1,   7, -10,   3],\n",
              "       [ -1,  -1,  -3,  -9, -10,   7,  -2,   3,   9,   5],\n",
              "       [  0,  -2,  -3,  -7,  -4,   7,  -7,  -6,   7,   1],\n",
              "       [  2,   6,   3,   9,  -1,   8,   5, -10,  -6,   5],\n",
              "       [ -8,  -3,  -2,  -1,  -7,  -3,  -6,  -5,   9,  -4],\n",
              "       [ -2, -10,  -8,   0,   5,   5,  -3,   9,   0,   4],\n",
              "       [-10,  -9,   7,   3,  -7, -10,   3,  -4,  -4,  -8],\n",
              "       [  2,   1,  -3,   3,  -2,   1,   2,   1,  -6,  -3],\n",
              "       [ -3,   3,  -6,   6,   8, -10,   3,   0,   7,  -3]])"
            ]
          },
          "metadata": {},
          "execution_count": 19
        }
      ]
    },
    {
      "cell_type": "code",
      "source": [
        "import time\n",
        "\n",
        "start_time = time.time()\n",
        "d = det(A)\n",
        "end_time = time.time()"
      ],
      "metadata": {
        "id": "I97qAqxGGlak"
      },
      "execution_count": null,
      "outputs": []
    },
    {
      "cell_type": "code",
      "source": [
        "print(\"det(A): \",d)\n",
        "print(\"time: \",end_time - start_time)"
      ],
      "metadata": {
        "colab": {
          "base_uri": "https://localhost:8080/"
        },
        "id": "s7Ud-gBiTD0n",
        "outputId": "2f952019-76b3-45cd-871e-7c9923d22c54"
      },
      "execution_count": null,
      "outputs": [
        {
          "output_type": "stream",
          "name": "stdout",
          "text": [
            "det(A):  29129065307\n",
            "time:  73.26186466217041\n"
          ]
        }
      ]
    },
    {
      "cell_type": "code",
      "source": [
        "import time\n",
        "\n",
        "start_time = time.time()\n",
        "d = determinant(A)\n",
        "end_time = time.time()"
      ],
      "metadata": {
        "id": "kjLXFQOeTRd2"
      },
      "execution_count": null,
      "outputs": []
    },
    {
      "cell_type": "code",
      "source": [
        "print(\"determinant(A): \",d)\n",
        "print(\"time: \",end_time - start_time)"
      ],
      "metadata": {
        "colab": {
          "base_uri": "https://localhost:8080/"
        },
        "id": "_TQFWy4ZSiDZ",
        "outputId": "24723777-dc11-4e56-da7a-f6f4646d641c"
      },
      "execution_count": null,
      "outputs": [
        {
          "output_type": "stream",
          "name": "stdout",
          "text": [
            "determinant(A):  29129065307\n",
            "time:  34.23689007759094\n"
          ]
        }
      ]
    },
    {
      "cell_type": "code",
      "source": [
        "import time\n",
        "\n",
        "start_time = time.time()\n",
        "d = np.linalg.det(A)\n",
        "end_time = time.time()"
      ],
      "metadata": {
        "id": "jL23i77VT55-"
      },
      "execution_count": null,
      "outputs": []
    },
    {
      "cell_type": "code",
      "source": [
        "print(\"np.linalg.det(A): \",d)\n",
        "print(\"time: \",end_time - start_time)"
      ],
      "metadata": {
        "colab": {
          "base_uri": "https://localhost:8080/"
        },
        "id": "n94nx14VT5wn",
        "outputId": "d7bca12a-5266-450d-d09d-1a83d88ac0cc"
      },
      "execution_count": null,
      "outputs": [
        {
          "output_type": "stream",
          "name": "stdout",
          "text": [
            "np.linalg.det(A):  29129065306.99992\n",
            "time:  0.0003108978271484375\n"
          ]
        }
      ]
    },
    {
      "cell_type": "markdown",
      "source": [
        "# Estimating the time by instruction in Python in a Colab machine"
      ],
      "metadata": {
        "id": "Ssedt2z56DNC"
      }
    },
    {
      "cell_type": "code",
      "source": [
        "import numpy as np\n",
        "\n",
        "n = 100\n",
        "\n",
        "A = np.ones((n,n))\n",
        "\n",
        "A"
      ],
      "metadata": {
        "colab": {
          "base_uri": "https://localhost:8080/"
        },
        "id": "1KhlyeNi4uwa",
        "outputId": "99d18b7a-fda6-4a06-c771-16a22a0d8abd"
      },
      "execution_count": null,
      "outputs": [
        {
          "output_type": "execute_result",
          "data": {
            "text/plain": [
              "array([[1., 1., 1., ..., 1., 1., 1.],\n",
              "       [1., 1., 1., ..., 1., 1., 1.],\n",
              "       [1., 1., 1., ..., 1., 1., 1.],\n",
              "       ...,\n",
              "       [1., 1., 1., ..., 1., 1., 1.],\n",
              "       [1., 1., 1., ..., 1., 1., 1.],\n",
              "       [1., 1., 1., ..., 1., 1., 1.]])"
            ]
          },
          "metadata": {},
          "execution_count": 26
        }
      ]
    },
    {
      "cell_type": "code",
      "source": [
        "B = np.ones((n,n))\n",
        "\n",
        "B"
      ],
      "metadata": {
        "colab": {
          "base_uri": "https://localhost:8080/"
        },
        "id": "RKtHO3UY5M87",
        "outputId": "2d489a97-7bdb-4ec2-94cc-bfb437ddc57e"
      },
      "execution_count": null,
      "outputs": [
        {
          "output_type": "execute_result",
          "data": {
            "text/plain": [
              "array([[1., 1., 1., ..., 1., 1., 1.],\n",
              "       [1., 1., 1., ..., 1., 1., 1.],\n",
              "       [1., 1., 1., ..., 1., 1., 1.],\n",
              "       ...,\n",
              "       [1., 1., 1., ..., 1., 1., 1.],\n",
              "       [1., 1., 1., ..., 1., 1., 1.],\n",
              "       [1., 1., 1., ..., 1., 1., 1.]])"
            ]
          },
          "metadata": {},
          "execution_count": 27
        }
      ]
    },
    {
      "cell_type": "code",
      "source": [
        "import time\n",
        "\n",
        "C= np.zeros((n,n))\n",
        "\n",
        "start_time = time.time()\n",
        "for i in range(n):\n",
        "        for j in range(n):\n",
        "            C[i][j] = 0\n",
        "            for k in range(len(A[0])):\n",
        "                C[i][j] += A[i][k] * B[k][j]\n",
        "end_time = time.time()\n",
        "print(end_time - start_time)"
      ],
      "metadata": {
        "colab": {
          "base_uri": "https://localhost:8080/"
        },
        "id": "0UFSLi-F5P0a",
        "outputId": "78b56300-e9ba-4c46-de3b-732da7a86836"
      },
      "execution_count": null,
      "outputs": [
        {
          "output_type": "stream",
          "name": "stdout",
          "text": [
            "1.178037166595459\n"
          ]
        }
      ]
    },
    {
      "cell_type": "code",
      "source": [
        "C"
      ],
      "metadata": {
        "colab": {
          "base_uri": "https://localhost:8080/"
        },
        "id": "h9zr4Z9P61bs",
        "outputId": "de6202a2-d668-4bea-be22-c3676f30d164"
      },
      "execution_count": null,
      "outputs": [
        {
          "output_type": "execute_result",
          "data": {
            "text/plain": [
              "array([[100., 100., 100., ..., 100., 100., 100.],\n",
              "       [100., 100., 100., ..., 100., 100., 100.],\n",
              "       [100., 100., 100., ..., 100., 100., 100.],\n",
              "       ...,\n",
              "       [100., 100., 100., ..., 100., 100., 100.],\n",
              "       [100., 100., 100., ..., 100., 100., 100.],\n",
              "       [100., 100., 100., ..., 100., 100., 100.]])"
            ]
          },
          "metadata": {},
          "execution_count": 34
        }
      ]
    },
    {
      "cell_type": "code",
      "source": [
        "time_by_oper_python = (end_time - start_time)/(2*n**3 - n**2)\n",
        "\n",
        "time_by_oper_python"
      ],
      "metadata": {
        "colab": {
          "base_uri": "https://localhost:8080/"
        },
        "id": "iEhaMEK77Ko7",
        "outputId": "ae461ab5-83be-4e5e-e47c-8670b2c82574"
      },
      "execution_count": null,
      "outputs": [
        {
          "output_type": "execute_result",
          "data": {
            "text/plain": [
              "5.9197847567611e-07"
            ]
          },
          "metadata": {},
          "execution_count": 35
        }
      ]
    },
    {
      "cell_type": "code",
      "source": [
        "import time\n",
        "import numpy as np\n",
        "\n",
        "start_time = time.time()\n",
        "C = A@B\n",
        "end_time = time.time()\n",
        "print(end_time - start_time)"
      ],
      "metadata": {
        "colab": {
          "base_uri": "https://localhost:8080/"
        },
        "id": "TfGsw6UF9o-a",
        "outputId": "1b5f7777-d2d7-4dd1-c96b-66c611577d8c"
      },
      "execution_count": null,
      "outputs": [
        {
          "output_type": "stream",
          "name": "stdout",
          "text": [
            "0.0018067359924316406\n"
          ]
        }
      ]
    },
    {
      "cell_type": "code",
      "source": [
        "C"
      ],
      "metadata": {
        "colab": {
          "base_uri": "https://localhost:8080/"
        },
        "id": "Q5MtZtVT93oQ",
        "outputId": "e3a555c2-8cff-43b2-e2d1-c46558ec65aa"
      },
      "execution_count": null,
      "outputs": [
        {
          "output_type": "execute_result",
          "data": {
            "text/plain": [
              "array([[100., 100., 100., ..., 100., 100., 100.],\n",
              "       [100., 100., 100., ..., 100., 100., 100.],\n",
              "       [100., 100., 100., ..., 100., 100., 100.],\n",
              "       ...,\n",
              "       [100., 100., 100., ..., 100., 100., 100.],\n",
              "       [100., 100., 100., ..., 100., 100., 100.],\n",
              "       [100., 100., 100., ..., 100., 100., 100.]])"
            ]
          },
          "metadata": {},
          "execution_count": 37
        }
      ]
    },
    {
      "cell_type": "code",
      "source": [
        "time_by_oper_numpy = (end_time - start_time)/(2*n**3 - n**2)\n",
        "\n",
        "time_by_oper_numpy"
      ],
      "metadata": {
        "colab": {
          "base_uri": "https://localhost:8080/"
        },
        "id": "DTVYQYxT-TsJ",
        "outputId": "a3a68899-a110-42dd-f799-1eb11aaf9f90"
      },
      "execution_count": null,
      "outputs": [
        {
          "output_type": "execute_result",
          "data": {
            "text/plain": [
              "9.079075338852465e-10"
            ]
          },
          "metadata": {},
          "execution_count": 38
        }
      ]
    },
    {
      "cell_type": "markdown",
      "source": [
        "# Time estimation for the digital computer computation of a 3 x 3 matrix determinant by cofactor expansion\n",
        "\n",
        "The number of operations $(+,-,*)$ perfomed  *det(A)* algorithm that calculates\n",
        "\n",
        "$$\\det(A)  = \\sum_{j=1}^n (-1)^{i+j}a_{ij} \\det(A(i∣j)) $$\n",
        "\n",
        "is given by\n",
        "\n",
        "$$\\begin{array}{lll}\n",
        "T(n) & =&  nT(n-1) + 5n , T(1) = 1\\\\\n",
        "\\end{array}\n",
        "$$\n",
        "\n",
        "$$\\begin{array}{lll}\n",
        "T(n) & =&  nT(n-1) + 5n\\\\\n",
        "     & =&  n[(n-1) T(n-2) + 5 (n-1) +10] + 5n  \\\\\n",
        "     & =&  n(n-1) T(n-2) + 5 n  (n-1) + 5n \\\\\n",
        "     & =&  n(n-1) [(n-2) T(n-3) + 5 (n-2)] + 5 n(n-1) + 5n\\\\\n",
        "     & = & n(n-1)(n-2) T(n-3) + 5n(n-1)(n-2)+  5 n  (n-1) + 5n \\\\\n",
        "     & \\vdots\\\\\n",
        "     & = &  n(n-1)(n-2)\\cdots (n -(n-2))  T(1) + [5n(n-1)(n-2)(n-3)\\cdots (n -(n-3))] + \\cdots + [5 n (n-1)]+ 5n \\\\\n",
        "    & = & n! + [5n(n-1)(n-2)(n-3)\\cdots 2] + [5n(n-1)(n-2)(n-3)\\cdots 3]+ \\cdots +[5 n (n-1) (n-3)] + [5 n (n-1)]+ 5n  \n",
        "\\end{array}\n",
        "$$\n",
        "\n",
        "$$T(n) = n! + 5 \\sum_{i=0}^{n-1} n!/i! = n! + 5 n!\\sum_{i=0}^{n-1} \\frac{1}{i!} < n! + 5 e n! < 16 n!  $$\n",
        "\n",
        "1. Asumming that an arithmetic operation takes the *time_by_oper_python* estimated before,  what is the maximun square matrix size for which the deteminant can be computed with cofactor extesion in $\\le$ 3 minute. Report the time at [LABCramer](https://docs.google.com/spreadsheets/d/1JNUbuj3QHcyPmp8i6kNreUFucj2mOvKHkCFHHy7zfws/edit?usp=sharing).\n",
        "\n",
        "2. Run an experiment with a random matrix of that size and report the time at [LABCramer](https://docs.google.com/spreadsheets/d/1JNUbuj3QHcyPmp8i6kNreUFucj2mOvKHkCFHHy7zfws/edit?usp=sharing).\n",
        "\n",
        "If the determinant of a $n \\times n$ square matrix takes $16 n!$ operations how much takes the Crammer solution of $n \\times n$ systems of linear equations?\n",
        "\n",
        "\n",
        "\n",
        "\n"
      ],
      "metadata": {
        "id": "PhAai3wzo_Tc"
      }
    },
    {
      "cell_type": "markdown",
      "source": [
        "### Punto 1"
      ],
      "metadata": {
        "id": "1Q2_AgMR74mR"
      }
    },
    {
      "cell_type": "code",
      "source": [
        "import time\n",
        "import math\n",
        "time_op = time_by_oper_python\n",
        "\n",
        "def num_operations(size):\n",
        "    if size==1:\n",
        "        return 1\n",
        "    return size * num_operations(size - 1) + 5 * size\n",
        "    # operaciones = math.factorial(size) + 5 * math.e * math.factorial(size)\n",
        "    # return operaciones\n",
        "\n",
        "def max_matrix_size(max_time):\n",
        "    min_to_sec = max_time * 60\n",
        "    current_size = 0\n",
        "    result = 0\n",
        "\n",
        "    while result <= min_to_sec:\n",
        "        current_size += 1\n",
        "        result = num_operations(current_size) * time_op\n",
        "\n",
        "    current_size -= 1\n",
        "    result_final = num_operations(current_size) * time_op\n",
        "    return [current_size, result_final]\n",
        "\n",
        "\n",
        "max_size = max_matrix_size(3)[0]\n",
        "max_size\n",
        "\n",
        "print(\"Max size of matrix: \" + str(max_size) + \"\\nTime: \" + str(max_matrix_size(3)[1]))"
      ],
      "metadata": {
        "colab": {
          "base_uri": "https://localhost:8080/"
        },
        "id": "qRYjM2pM_LGC",
        "outputId": "a28d8016-4ff0-4305-811d-0143764cbfc9"
      },
      "execution_count": 41,
      "outputs": [
        {
          "output_type": "stream",
          "name": "stdout",
          "text": [
            "Max size of matrix: 10\n",
            "Time: 20.60398843944971\n"
          ]
        }
      ]
    },
    {
      "cell_type": "markdown",
      "source": [
        "### Punto 2"
      ],
      "metadata": {
        "id": "jnD-lhZUOMdb"
      }
    },
    {
      "cell_type": "code",
      "source": [
        "matrix_size = np.random.randint(-10,10,size=(max_size,max_size))\n",
        "start_time_1 = time.time()\n",
        "determinant_1 = det(matrix_size)\n",
        "final_time_1 = time.time() - start_time_1\n",
        "print(f\"El tiempo de ejecución usando det(A) es de: {final_time_1} segundos\")\n",
        "print(f\"El determinante con det(A) es: {determinant_1}\")\n",
        "\n",
        "start_time_2 = time.time()\n",
        "determinant_2 = np.linalg.det(matrix_size)\n",
        "final_time_2 = time.time() - start_time_2\n",
        "\n",
        "print(f\"El tiempo de ejecución usando np.linalg.det(A) es de: {final_time_2} segundos\")\n",
        "print(f\"El determinante con np.linalg.det(A) es: {determinant_2}\")\n"
      ],
      "metadata": {
        "colab": {
          "base_uri": "https://localhost:8080/"
        },
        "id": "LXwA8LS7DbLK",
        "outputId": "fc2fd6ae-4796-4c41-ea98-8e9ebc7b96d9"
      },
      "execution_count": 55,
      "outputs": [
        {
          "output_type": "stream",
          "name": "stdout",
          "text": [
            "El tiempo de ejecución usando det(A) es de: 72.40193915367126 segundos\n",
            "El determinante con det(A) es: -2290186236\n",
            "El tiempo de ejecución usando np.linalg.det(A) es de: 0.00025343894958496094 segundos\n",
            "El determinante con np.linalg.det(A) es: -2290186236.0000076\n"
          ]
        }
      ]
    },
    {
      "cell_type": "markdown",
      "source": [
        "Pregunta:\n",
        "\n",
        "If the determinant of a  $n×n$  square matrix takes  $16n!$  operations how much takes the Crammer solution of  $n×n$  systems of linear equations?\n",
        "\n",
        "Respuesta:\n",
        "\n",
        "Según la siguiente fuente ([regla de Crammer](https://www.thermopedia.com/content/672/#:~:text=The%20number%20of%20operations%20required,to%20(n%2B1))), la cantidad de operaciones aproximada en la regla de Cramer es proporcional al calculo de $(n-1)$ determinantes, esto indica que para obtener la respuesta de solución a una matriz por regla de Cramer, se requieren $(n-1) \\cdot 16n!$ operaciones."
      ],
      "metadata": {
        "id": "_waNtmWQQgmR"
      }
    },
    {
      "cell_type": "markdown",
      "source": [
        "# Time estimation for the human computer computation of a 3 x 3 matrix determinant by cofactor expansion\n",
        "\n",
        " Write a 3 x 3 matrix with the first element as your list number Mod 10 and the rest row by row 1,2,3,...9 skipimg the first element, by example if youir list number is 12, your list number Mod 10 is 2 and the matrix is\n",
        "$$A = \\left[\n",
        "  \\begin{array}{ccc}\n",
        "2 & 1 & 3\\\\\n",
        "4 & 5 & 6\\\\\n",
        "7 & 8 & 9\\\\\n",
        "\\end{array}\n",
        "\\right]\n",
        "$$\n",
        "Use a chronometer like http://online-stopwatch.chronme.com/ to estimate the time to compute the determinant by using the procedure in the follo wing exmaple (https://people.math.carleton.ca/~kcheung/math/notes/MATH1107/07/07_cofactor_expansion.html):<br />  \n",
        "Let\n",
        "$$A = \\begin{bmatrix} 1 & 2 & 3\\\\ 4 & 5 & 6\\\\ 7 & 8 & 9 \\end{bmatrix}$$\n",
        "we compute $\\det(A)$ by expanding along row $2$ as <br /> <br />\n",
        "$$\\begin{eqnarray} \\det(A) & = & (-1)^{2+1}A_{2,1}\\det(A(2 \\mid 1)) + (-1)^{2+2}A_{2,2}\\det(A(2 \\mid 2)) + (-1)^{2+3}A_{2,3}\\det(A(2 \\mid 3)) \\\\ & = & -4\\left|\\begin{matrix} 2 & 3 \\\\ 8 & 9\\end{matrix}\\right| + 5\\left|\\begin{matrix} 1 & 3 \\\\ 7 & 9\\end{matrix}\\right| - 6\\left|\\begin{matrix} 1 & 2 \\\\ 7 & 8\\end{matrix}\\right| \\\\ & = & -4(2\\cdot 9 - 3\\cdot 8) + 5(1 \\cdot 9- 3\\cdot 7) - 6(1\\cdot 8 - 2 \\cdot 7) \\\\ & = & 24 - 60 + 36 \\\\ & = & 0 \\end{eqnarray}$$\n",
        "3. Report the time at [LABCramer](https://docs.google.com/spreadsheets/d/1JNUbuj3QHcyPmp8i6kNreUFucj2mOvKHkCFHHy7zfws/edit?usp=sharing)\n",
        "4. Report the value of the determinant at [LABCramer](https://docs.google.com/spreadsheets/d/1JNUbuj3QHcyPmp8i6kNreUFucj2mOvKHkCFHHy7zfws/edit?usp=sharing)\n"
      ],
      "metadata": {
        "id": "__brdhGadAXY"
      }
    },
    {
      "cell_type": "markdown",
      "source": [
        "\n",
        "\n",
        "---\n",
        "\n"
      ],
      "metadata": {
        "id": "zFm1fBUL-T9z"
      }
    },
    {
      "cell_type": "markdown",
      "source": [
        "***Matriz propia*** \\\\\n",
        "\\begin{gather}\n",
        "    \\text{Número en la lista: } 50\\\\\n",
        "    50mod(10)=0\n",
        "\\end{gather}\n",
        "Matriz resultante:\n",
        "\n",
        "\\begin{equation}\n",
        "A =\n",
        "    \\begin{pmatrix}\n",
        "    0 & 1 & 2 \\\\\n",
        "    3 & 4 & 5 \\\\\n",
        "    6 & 7 & 8\n",
        "    \\end{pmatrix}\n",
        "\\end{equation}"
      ],
      "metadata": {
        "id": "v4MwL3ad-cz-"
      }
    },
    {
      "cell_type": "markdown",
      "source": [
        "### Punto 3"
      ],
      "metadata": {
        "id": "-yOpV4xp0btu"
      }
    },
    {
      "cell_type": "markdown",
      "source": [
        "Tiempo estimado de calculo de determinante a mano: *00:00:58.523*\n",
        "\n",
        "###\tLabel\tInterval\tTotal\tTime Recorded\n",
        "2\tPause\t---\t---\tThu, 2 May 2024, 15:17:32.925\n",
        "1\tSplit\t00:00:58.523\t00:00:58.523\tThu, 2 May 2024, 15:17:32.925\n",
        "\tStart\t---\t---\tThu, 2 May 2024, 15:16:34.402"
      ],
      "metadata": {
        "id": "WzsUd3N1-hFH"
      }
    },
    {
      "cell_type": "markdown",
      "source": [
        "![image.png](data:image/png;base64,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)"
      ],
      "metadata": {
        "id": "nYC9Mb4g-lj0"
      }
    },
    {
      "cell_type": "markdown",
      "source": [
        "Tiempo por medio de algoritmo:"
      ],
      "metadata": {
        "id": "XFGDrutYJ3VY"
      }
    },
    {
      "cell_type": "code",
      "source": [
        "import numpy as np\n",
        "import time\n",
        "\n",
        "matriz_propia = np.array([[0,1,2],[3,4,5],[6,7,8]])\n",
        "\n",
        "def det_cofactor_exp(matrix):\n",
        "    a, b, c = matrix[0]\n",
        "    det_1 = a * ((matrix[1][1] * matrix[2][2]) - (matrix[1][2] * matrix[2][1]))\n",
        "    det_2 = (-1) * b * ((matrix[1][0] * matrix[2][2]) - (matrix[1][2] * matrix[2][0]))\n",
        "    det_3 = c * ((matrix[1][0] * matrix[2][1]) - (matrix[1][1] * matrix[2][0]))\n",
        "    return det_1 + det_2 + det_3\n",
        "\n",
        "start_time_det = time.time()\n",
        "det_matriz_propia = det_cofactor_exp(matriz_propia)\n",
        "final_time_det = time.time() - start_time_det\n",
        "\n",
        "print(f\"El resultado de la matriz propia es: {det_matriz_propia}\")\n",
        "print(f\"El tiempo de ejecución fue de: {final_time_det} segundos\")"
      ],
      "metadata": {
        "colab": {
          "base_uri": "https://localhost:8080/"
        },
        "id": "cHfS6zrpHCrj",
        "outputId": "a4be0138-3273-4ee5-8842-167016c945df"
      },
      "execution_count": 56,
      "outputs": [
        {
          "output_type": "stream",
          "name": "stdout",
          "text": [
            "El resultado de la matriz propia es: 0\n",
            "El tiempo de ejecución fue de: 0.0025773048400878906 segundos\n"
          ]
        }
      ]
    },
    {
      "cell_type": "markdown",
      "source": [
        "### Punto 4"
      ],
      "metadata": {
        "id": "YrJ3CRLk0vst"
      }
    },
    {
      "cell_type": "markdown",
      "source": [
        "El resultado del determinante es 0,\n",
        "\n",
        "\\begin{equation}\n",
        "A =\n",
        "    \\begin{pmatrix}\n",
        "    0 & 1 & 2 \\\\\n",
        "    3 & 4 & 5 \\\\\n",
        "    6 & 7 & 8\n",
        "    \\end{pmatrix}\n",
        "\\end{equation}\n",
        "\n",
        "Calculo el $\\det(A)$ por medio de la fila $1$ como: <br /> <br />\n",
        "$$\\begin{eqnarray}\n",
        " \\det(A)\n",
        " & = & (-1)^{1+1}A_{1,1}\\det(A(1 \\mid 1)) + (-1)^{1+2}A_{1,2}\\det(A(1 \\mid 2)) + (-1)^{1+3}A_{1,3}\\det(A(1 \\mid 3)) \\\\\n",
        " & = & 0\\left|\\begin{matrix} 4 & 5 \\\\ 7 & 8\\end{matrix}\\right|\n",
        "     - 1\\left|\\begin{matrix} 3 & 5 \\\\ 6 & 8\\end{matrix}\\right|\n",
        "     + 2\\left|\\begin{matrix} 3 & 4 \\\\ 6 & 7\\end{matrix}\\right| \\\\\n",
        "& = & 0(4\\cdot 8 - 5\\cdot 7) - 1(3 \\cdot 8- 5\\cdot 6) + 2(3\\cdot 7 - 4 \\cdot 6) \\\\ & = & 0 + 6 - 6 \\\\\n",
        "& = & 0\n",
        "\\end{eqnarray}$$\n",
        "\n"
      ],
      "metadata": {
        "id": "ncS1Abh1-p7G"
      }
    }
  ]
}